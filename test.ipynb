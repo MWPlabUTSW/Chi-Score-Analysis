{
 "cells": [
  {
   "cell_type": "markdown",
   "id": "a001d2e3-13fc-47ee-a9f5-98c03b7c748a",
   "metadata": {},
   "source": [
    "# Chi-Score Analysis: Quick-Use\n",
    "This notebook provides three cells to install the analysis, run the full analysis on an input sequence with user-defined parameters, and visualize the results and solution(s)."
   ]
  },
  {
   "cell_type": "markdown",
   "id": "da485361-b66b-4ffa-ad04-ed2d25ed7e45",
   "metadata": {},
   "source": [
    "# Installation:\n",
    "If you have already downloaded the chi_score_analysis.py file to the working directory, you can skip the following cell. Otherwise, execute the cel below to download the module. "
   ]
  },
  {
   "cell_type": "code",
   "execution_count": null,
   "id": "4bf77273-1cad-49df-a676-115c1d2d6b66",
   "metadata": {},
   "outputs": [],
   "source": [
    "!pip install wget\n",
    "import wget\n",
    "\n",
    "wget.download('https://raw.githubusercontent.com/MWPlabUTSW/Chi-Score-Analysis/main/chi_score_analysis.py')"
   ]
  },
  {
   "cell_type": "markdown",
   "id": "1eb0314b-5163-42ef-9b07-539866853fae",
   "metadata": {},
   "source": [
    "# Analysis:\n",
    "Execute the following cell to run the full analysis on the input amino acid sequence. Sequence should be input as string of capitalized one-letter amino acid codes. You may also adjust the following parameters as desired:\n",
    "- window_sizes: the subsequence lengths to use when generating initial set of boundaries, input as a list of EVEN integer values. Values must be even so that the subsequences are centered on the spaces between residues (where boundaries will occur) and not directly on a residue.\n",
    "- residue_groups: the scheme to use for grouping amino acids. By default, this is set to 'twenty', which leaves the 20 amino acids ungrouped. If you wanted 11 groups, for example, you would enter 'eleven'. The full list of supported grouping schemese can be recalled by executing 'xid.residue_groups' in a new cell.\n",
    "\n",
    "When the analyis is complete, the cell will output a list of solutions, each containing the boundary positions and corresponding z-scores after each iterative removal of a low-scoring boundary. "
   ]
  },
  {
   "cell_type": "code",
   "execution_count": 1,
   "id": "9efacbdc-e1d0-4271-806e-31f12d00cb60",
   "metadata": {},
   "outputs": [
    {
     "name": "stdout",
     "output_type": "stream",
     "text": [
      "Collecting wget\n",
      "  Downloading wget-3.2.zip (10 kB)\n",
      "  Preparing metadata (setup.py): started\n",
      "  Preparing metadata (setup.py): finished with status 'done'\n",
      "Using legacy 'setup.py install' for wget, since package 'wheel' is not installed.\n",
      "Installing collected packages: wget\n",
      "  Running setup.py install for wget: started\n",
      "  Running setup.py install for wget: finished with status 'done'\n",
      "Successfully installed wget-3.2\n"
     ]
    },
    {
     "name": "stderr",
     "output_type": "stream",
     "text": [
      "\n",
      "[notice] A new release of pip available: 22.2.2 -> 23.3.1\n",
      "[notice] To update, run: python.exe -m pip install --upgrade pip\n"
     ]
    }
   ],
   "source": [
    "import chi_score_analysis as xid\n",
    "\n",
    "sequence = 'YOURSEQUENCE'\n",
    "window_sizes = [6, 8, 10, 12, 14, 16, 18, 20, 22]\n",
    "residue_groups = 'twenty'\n",
    "\n",
    "solutions = xid.analyze_sequence(sequence, window_sizes, residue_groups)\n",
    "solutions"
   ]
  },
  {
   "cell_type": "markdown",
   "id": "c249494b-eb08-4676-9855-59b4f0a775d0",
   "metadata": {},
   "source": [
    "# Plot Solution\n",
    "Execute the following cell to visualize the pairwise matrix for the input sequence and plot a solution. The following parameters may be altered as desired:\n",
    "- window_size: the subsequence length to use when generating the pairwise matrix, entered as an integer (even integers recommended)\n",
    "- solution: the solution to be plotted onto the pairwise matrix, can be entered in two ways: 1) as a float value indicating the minimum z-score to allow in the solution, or 2) as a list of boundary positions to be plotted. If the former is used, the solution to plot is determined from the solutions output in the previous cell; if the latter is used, the positions entered will simply be plotted. To plot the matrix with no solutions, input an empty list ([]).\n",
    "- name: name of sequence being visualized, entered as a string.\n",
    "- outfile: the pathname to which the figure will be saved, if desired."
   ]
  },
  {
   "cell_type": "code",
   "execution_count": 20,
   "id": "b7a1b5c3-a2f0-44a4-94f8-2eea47835d39",
   "metadata": {},
   "outputs": [],
   "source": [
    "import matplotlib.pyplot as plt\n",
    "\n",
    "window_size = 12\n",
    "solution = 1.96\n",
    "name = 'Input Sequence'\n",
    "outfile = False\n",
    "\n",
    "\n",
    "if isinstance(solution, float):\n",
    "    c = 0\n",
    "    while min(solutions[c][1]) < solution:\n",
    "        c += 1\n",
    "    solution = solutions[c][0]\n",
    "\n",
    "xid.get_modules(sequence, solution)\n",
    "xid.plot_solution(sequence, xid.get_corr_scores(xid.get_heatmap_scores(sequence, window_size)), solution, window_size, name)\n",
    "\n",
    "if isinstance(outfile, str):\n",
    "    plt.savefig(outfile, bbox_inches = 'tight')\n",
    "    "
   ]
  }
 ],
 "metadata": {
  "kernelspec": {
   "display_name": "Python 3 (ipykernel)",
   "language": "python",
   "name": "python3"
  },
  "language_info": {
   "codemirror_mode": {
    "name": "ipython",
    "version": 3
   },
   "file_extension": ".py",
   "mimetype": "text/x-python",
   "name": "python",
   "nbconvert_exporter": "python",
   "pygments_lexer": "ipython3",
   "version": "3.10.8"
  }
 },
 "nbformat": 4,
 "nbformat_minor": 5
}
