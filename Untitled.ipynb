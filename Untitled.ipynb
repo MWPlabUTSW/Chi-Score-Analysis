{
 "cells": [
  {
   "cell_type": "markdown",
   "id": "4c1b9597-3d48-4060-9612-2264c44dbb00",
   "metadata": {},
   "source": [
    "# Chi-Score Analysis Walkthrough:\n",
    "In this notebook, each step of the chi-score analysis is executed as a separate cell. Each process is described in markup above the corresponding cell so that the user can easily access the data at different points in the analysis."
   ]
  },
  {
   "cell_type": "markdown",
   "id": "53875cf0-38b3-4e71-9a3e-aa0d83bad1ad",
   "metadata": {},
   "source": [
    "# Step 1: Installation\n",
    "Skip this step if you already have the chi_score_analysis.py file downloaded to the working directory, otherwise execute the cell below to download the file."
   ]
  },
  {
   "cell_type": "code",
   "execution_count": null,
   "id": "bb71622f-fc8d-482a-9e73-3b33c98d3d6c",
   "metadata": {},
   "outputs": [],
   "source": [
    "!pip install wget\n",
    "import wget\n",
    "\n",
    "wget.download('https://raw.githubusercontent.com/MWPlabUTSW/Chi-Score-Analysis/main/chi_score_analysis.py')"
   ]
  },
  {
   "cell_type": "markdown",
   "id": "ef0c1f2d-3bb7-49e4-9a78-1c3aec891a8d",
   "metadata": {},
   "source": [
    "# Step 2: Import Analysis and Dependencies\n",
    "Execute the following cell to import the packages that will be used in this notebook."
   ]
  },
  {
   "cell_type": "code",
   "execution_count": null,
   "id": "cb6a5e30-4ea3-4193-9ead-325927ccf00f",
   "metadata": {},
   "outputs": [],
   "source": [
    "import chi_score_analysis as xid\n",
    "import matplotlib.pyplot as plt"
   ]
  },
  {
   "cell_type": "markdown",
   "id": "afd2c7a6-569f-43bf-8bfb-16107988c24d",
   "metadata": {},
   "source": [
    "# Step 3: Generate Pairwise Correlation Matrices\n",
    "Enter the sequence to be analyzed as well as which window sizes to use in the analysis. Chi-Score matrices are stored in 'chi_matrices' and correlation matrices are stored in 'corr_matrices'. \n",
    "\n",
    "In this step, the input sequence is parsed into all possible subsequences of the specified length (window size) and the chi-score between each is calculated in a pairwise fashion. The chi-score matrices are then correlated and transformed into Pearson's Correlation Coefficients. \n",
    "\n",
    "The matrices can be visualized as matplotlib heatmaps. In the cell below, the matrices for 9 window sizes are computed, and the one generated using a window size of 12 is visualized."
   ]
  },
  {
   "cell_type": "code",
   "execution_count": null,
   "id": "35d75174-60c6-498e-8f47-dccd4979fe5d",
   "metadata": {},
   "outputs": [],
   "source": [
    "sequence = 'YOURSEQUENCE'\n",
    "window_sizes = [6, 8, 10, 12, 14, 16, 18, 20, 22]\n",
    "\n",
    "chi_matrices = list()\n",
    "corr_matrices = list()\n",
    "for window in window_sizes:\n",
    "    chi_matrix = xid.get_heatmap_scores(sequence, window)\n",
    "    chi_matrices.append(chi_matrix)\n",
    "    corr_matrix = xid.get_corr_scores(chi_matrix)\n",
    "    corr_matrices.append(corr_matrix)\n",
    "    \n",
    "\n",
    "hm = plt.imshow(corr_matrices[3], cmap = 'Blues')\n",
    "plt.colorbar(hm)"
   ]
  },
  {
   "cell_type": "markdown",
   "id": "a727e50d-eb28-40ff-a897-e625e64202fa",
   "metadata": {},
   "source": [
    "# Step 4: Compute Insulation Scores\n",
    "In order to identify an initial set of boundaries from the pairwise matrices, we calculate insulation score by moving a square window along the main diagonal of a matrix and computing the mean score contained within the polygon. Here, the insulation scores are high when the square is centered on a subsequence within an insulated region (the blue 'squares' along the diagonal) and low when centered on a subsequence between them. In this sense, the local minima of the insulation scores may represent boundaries between compositionally distinct regions. Execute the cell below to compute the insulation scores for all matrices in corr_matrices and plot the scores for the window size = 12 matrix. "
   ]
  },
  {
   "cell_type": "code",
   "execution_count": null,
   "id": "21a27010-c23c-486b-99de-810887472e3b",
   "metadata": {
    "scrolled": true
   },
   "outputs": [],
   "source": [
    "insulation_scores = list()\n",
    "for x in range(len(window_sizes)):\n",
    "    insulation_scores.append(xid.get_insulation_scores(corr_matrices[x], s = (2*window_sizes[x])-1))\n",
    "\n",
    "plt.plot(insulation_scores[3])"
   ]
  },
  {
   "cell_type": "markdown",
   "id": "3977fe2d-19d3-46e6-9576-49017d04b338",
   "metadata": {},
   "source": [
    "# Step 5: Getting Initial Set of Boundaries\n",
    "The initial set of nodes from which boundary positions are optimized are determined from the insulation scores calculated in the previous step. Local minima from each set of insulation scores are first determined, resulting in a list of lists, each containing the potential boundary placements from one of the window sizes used in the analysis. The groups are then dissolved, and the boundary placements are reclustered based on their position on the sequence. For example, if the placements 50, 51, and 49 show up in three different window sizes, they will be grouped as the same boundary when reclustered."
   ]
  },
  {
   "cell_type": "code",
   "execution_count": null,
   "id": "2e1efdff-dc60-4554-973f-2a1c538edd61",
   "metadata": {},
   "outputs": [],
   "source": [
    "unclustered_groups = list()\n",
    "for x in range(len(window_sizes)):\n",
    "    unclustered_groups.append(xid.subsequence_to_boundary(xid.get_minima(insulation_scores[x]), window_sizes[x]))\n",
    "\n",
    "clustered_groups = xid.cluster_boundaries(unclustered_groups)\n",
    "unclustered_groups, clustered_groups"
   ]
  },
  {
   "cell_type": "markdown",
   "id": "2fac8a7d-828f-427a-bfcb-cd7aff21a173",
   "metadata": {},
   "source": [
    "# Step 6: Optimizing Initial Boundaries\n",
    "From the clustered groups generated in the previous step, an initial set of boundary placements can be generated by optizing the position of each group we just defined. This is done by selecting the position in each group that maximizes the chi-score between the produced modules. As part of the analysis we want to avoid significantly short modules; we do this here by merging any two consecutive boundary groups that result in a module shorter than the specified cutoff length. "
   ]
  },
  {
   "cell_type": "code",
   "execution_count": null,
   "id": "dbc44bf5-e4fd-468b-a2cb-afe9cba1d70c",
   "metadata": {},
   "outputs": [],
   "source": [
    "optimized_solution = xid.optimize_boundaries(sequence, clustered_groups)\n",
    "initial_solution, boundary_groups = xid.eliminate_short_modules(sequence, optimized_solution, clustered_groups, cutoff=6)\n",
    "initial_solution, boundary_groups"
   ]
  },
  {
   "cell_type": "markdown",
   "id": "9670403d-5515-43bd-a0ec-bc9b8682f5ea",
   "metadata": {},
   "source": [
    "# Step 7: Scoring and Trimming Boundaries\n",
    "The final step of the analysis if to calculate z-scores for the optimized boundaries and iteratively remove low-scoring groups. The z-score for a boundary is calculated by taking the two regions separated by that boundary and randomly scrambling them together 500 times and the chi-score of the strongest boundary in each scramble is identified; from this set of boundary chi-scores, the z-score for the original boundary can be calculated. \n",
    "\n",
    "Once z-scores are calculated, the lowest-scoring boundary is removed and the remaining boundaries are reoptimized and rescored. This is done until only z-scores above the specified cutoff remain. The boundary positions and z-scores after each iteration are saved and output at the end. "
   ]
  },
  {
   "cell_type": "code",
   "execution_count": null,
   "id": "e23cb3b7-2173-45a1-b2d9-dd5654686148",
   "metadata": {},
   "outputs": [],
   "source": [
    "initial_zscores = xid.get_zscores(sequence, initial_solution)\n",
    "solutions, zscores = xid.trim_boundaries(sequence, initial_solution, initial_zscores, boundary_groups, cutoff=1.96)\n",
    "solutions, zscores"
   ]
  },
  {
   "cell_type": "markdown",
   "id": "55662774-b98c-432f-bb9f-ef3c809e1e50",
   "metadata": {},
   "source": [
    "# Step 8: Getting Modules and Plotting Solutions\n",
    "The results of the previous cell can be used to get the resulting modules and/or plot them over the pairwise matrices for the sequence. Execute the following cell to plot a solution. By default, the window size = 12 matrix is plotted, however this can be changed as desired."
   ]
  },
  {
   "cell_type": "code",
   "execution_count": null,
   "id": "2d765f70-0c5a-44f3-ac0c-fa5636656e83",
   "metadata": {},
   "outputs": [],
   "source": [
    "modules = xid.get_modules(sequence, solutions[3])\n",
    "\n",
    "xid.plot_solution(sequence, corr_matrices[3], solutions[3], window = 12, name = 'Input Sequence')\n",
    "modules"
   ]
  }
 ],
 "metadata": {
  "kernelspec": {
   "display_name": "Python 3 (ipykernel)",
   "language": "python",
   "name": "python3"
  },
  "language_info": {
   "codemirror_mode": {
    "name": "ipython",
    "version": 3
   },
   "file_extension": ".py",
   "mimetype": "text/x-python",
   "name": "python",
   "nbconvert_exporter": "python",
   "pygments_lexer": "ipython3",
   "version": "3.10.8"
  }
 },
 "nbformat": 4,
 "nbformat_minor": 5
}
