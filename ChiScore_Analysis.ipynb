{
  "nbformat": 4,
  "nbformat_minor": 0,
  "metadata": {
    "colab": {
      "provenance": [],
      "include_colab_link": true
    },
    "kernelspec": {
      "name": "python3",
      "display_name": "Python 3"
    },
    "language_info": {
      "name": "python"
    }
  },
  "cells": [
    {
      "cell_type": "markdown",
      "metadata": {
        "id": "view-in-github",
        "colab_type": "text"
      },
      "source": [
        "<a href=\"https://colab.research.google.com/github/MWPlabUTSW/Chi-Score-Analysis/blob/main/ChiScore_Analysis.ipynb\" target=\"_parent\"><img src=\"https://colab.research.google.com/assets/colab-badge.svg\" alt=\"Open In Colab\"/></a>"
      ]
    },
    {
      "cell_type": "markdown",
      "source": [
        "# **Preliminary Information:**\n",
        "This Colab notebook enables easy use of the Chi-Score Analysis to parse a protein sequence into regions of distinct amino acid composition.\n",
        "\n",
        "Running the analysis requires the user only to input the protein sequence to analyze. There are however, a few parameters that can be adjusted as desired, such as which window sizes to generate the matrices and the desired confidence level, however the recommended values for these are loaded by default.\n",
        "\n",
        "Please note that the following cells can be executed one by one, however this notebook was written with the intent for all cells to be executed together. For a step-by-step breakdown of the analysis, please see our GitHub repository at https://github.com/MWPlabUTSW/Chi-Score-Analysis.git"
      ],
      "metadata": {
        "id": "RI-pLbJEurhb"
      }
    },
    {
      "cell_type": "code",
      "source": [
        "from ipywidgets import widgets\n",
        "\n",
        "#@title <b><font color='#00AAFF'>1 - Input Protein Sequence</font></b>\n",
        "\n",
        "#@markdown Name of the sequence to be analyzed:\n",
        "NAME = \"CeOrc1-IDR\" #@param {type:\"string\"}\n",
        "\n",
        "#@markdown Input sequence as string of capitalized amino acid codes:\n",
        "SEQUENCE = \"MNTRKSETSKTVSATPVKRRSTRITNLPKSAPKIVKRSSVRLRGAPQCTYKSDSSSSSSSSDSDGEDEYAATKDELKAVDHDNQMEIDFSDEIGENFSEEDSCSDKENRRVTRSRTPTRLEETPSKRLARELSKASVSKVSTSKTLFKESKSPRKVEISRKTNKARVFQEEDDDDEDDFSDEIDEKFYSKTNKRTPITIKIPSKMITQKVTPLVISKTPGGTLRTRRRARQNSEELEDLVDPLDS\" #@param {type:\"string\"}\n",
        "\n",
        "# Analysis parameters:\n",
        "Window_Sizes = [6, 8, 10, 12, 14, 16, 18, 20, 22]\n",
        "Min_ZScore = 1.96\n",
        "\n",
        "#@markdown Select \"YES\" to download output matrix upon completion:\n",
        "DOWNLOAD_MATRIX   = \" NO\"       #@param [\" NO\", \" YES\"]\n"
      ],
      "metadata": {
        "id": "VVg6BO5iwzOz"
      },
      "execution_count": null,
      "outputs": []
    },
    {
      "cell_type": "code",
      "source": [
        "#@title <b><font color='#00AAFF'>2 - Setting Environment</b>\n",
        "!pip install wget\n",
        "import wget\n",
        "wget.download('https://raw.githubusercontent.com/MWPlabUTSW/Chi-Score-Analysis/main/chi_score_analysis.py')\n",
        "\n",
        "import chi_score_analysis as xid\n",
        "import matplotlib.pyplot as plt\n",
        "import numpy as np\n",
        "from google.colab import files\n",
        "import time\n"
      ],
      "metadata": {
        "id": "DQDAYLJI0Aoa"
      },
      "execution_count": null,
      "outputs": []
    },
    {
      "cell_type": "code",
      "source": [
        "#@title <b><font color='#00AAFF'>3 - Run Analysis</b>\n",
        "\n",
        "results = xid.analyze_sequence(SEQUENCE, Window_Sizes)\n",
        "\n",
        "c = 0\n",
        "solution = [[], []]\n",
        "while c < len(results):\n",
        "  if np.min(results[c][1]) < Min_ZScore:\n",
        "    c += 1\n",
        "  else:\n",
        "    solution = results[c]\n",
        "    break\n",
        "\n",
        "for _ in range(5):\n",
        "  print('.....')\n",
        "\n",
        "modules = xid.get_modules(SEQUENCE, solution[0])\n",
        "print(f'Analysis Complete: {len(modules)} modules found in {NAME}:')\n",
        "x = 1\n",
        "for module in modules:\n",
        "  print(f'{x}) {module}')\n",
        "  x += 1\n",
        "\n",
        "for _ in range(5):\n",
        "  print('.....')\n",
        "\n",
        "print(f'Boundary positions and z-scores are...')\n",
        "if solution == [[], []]:\n",
        "  print('No modules found in input sequence for specified confidence level.')\n",
        "else:\n",
        "  print(solution)"
      ],
      "metadata": {
        "id": "776KE4GE1X4y"
      },
      "execution_count": null,
      "outputs": []
    },
    {
      "cell_type": "code",
      "source": [
        "#@title <b><font color='#00AAFF'>4 - Plot Solution</b>\n",
        "\n",
        "OUTFILE = f'{NAME}_{time.time()}.svg'\n",
        "\n",
        "WINDOW = 12\n",
        "\n",
        "xid.plot_solution(SEQUENCE, xid.get_corr_scores(xid.get_heatmap_scores(SEQUENCE, WINDOW)), solution[0], WINDOW, NAME)\n",
        "\n",
        "if DOWNLOAD_MATRIX == \" YES\":\n",
        "  plt.savefig(OUTFILE, bbox_inches = 'tight')\n",
        "  files.download(OUTFILE)"
      ],
      "metadata": {
        "id": "fP5XJo0n38AN"
      },
      "execution_count": null,
      "outputs": []
    }
  ]
}