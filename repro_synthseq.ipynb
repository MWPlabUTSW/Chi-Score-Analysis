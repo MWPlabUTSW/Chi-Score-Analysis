{
 "cells": [
  {
   "cell_type": "markdown",
   "id": "a001d2e3-13fc-47ee-a9f5-98c03b7c748a",
   "metadata": {},
   "source": [
    "# Chi-Score Analysis: Synthetic Sequence (Fig. 1)\n",
    "Execute the following cell to reproduce the pairwise matrix for the synthetic sequence defined in Figure 1."
   ]
  },
  {
   "cell_type": "code",
   "execution_count": null,
   "id": "4bf77273-1cad-49df-a676-115c1d2d6b66",
   "metadata": {},
   "outputs": [],
   "source": [
    "!pip install wget\n",
    "import wget\n",
    "\n",
    "wget.download('https://raw.githubusercontent.com/MWPlabUTSW/Chi-Score-Analysis/main/chi_score_analysis.py')\n",
    "\n",
    "import chi_score_analysis as xid\n",
    "import matplotlib.pyplot as plt\n",
    "import random\n",
    "\n",
    "random.seed(0)\n",
    "\n",
    "sequence = 'AAAAAAAAAAAAAAAAAAAAAAAAAAAAAACYCYCYCYCYCYCYCYCYCYCYCYCYCYCYCYGHPGHPGHPGHPGHPGHPGHPGGPHAYAYAYAYAYAYAYAYCHCHCHCHCHCHCHCHCHCHCH'\n",
    "window_sizes = [6, 8, 10, 12, 14, 16, 18, 20, 22]\n",
    "residue_groups = 'twenty'\n",
    "\n",
    "solutions = xid.analyze_sequence(sequence, window_sizes, residue_groups)\n",
    "\n",
    "window_size = 12\n",
    "solution = 1.96\n",
    "name = 'Input Sequence'\n",
    "outfile = False\n",
    "\n",
    "\n",
    "if isinstance(solution, float):\n",
    "    c = 0\n",
    "    while min(solutions[c][1]) < solution:\n",
    "        c += 1\n",
    "    solution = solutions[c][0]\n",
    "\n",
    "xid.get_modules(sequence, solution)\n",
    "xid.plot_solution(sequence, xid.get_corr_scores(xid.get_heatmap_scores(sequence, window_size)), solution, 11, name)\n"
   ]
  }
 ],
 "metadata": {
  "kernelspec": {
   "display_name": "Python 3 (ipykernel)",
   "language": "python",
   "name": "python3"
  },
  "language_info": {
   "codemirror_mode": {
    "name": "ipython",
    "version": 3
   },
   "file_extension": ".py",
   "mimetype": "text/x-python",
   "name": "python",
   "nbconvert_exporter": "python",
   "pygments_lexer": "ipython3",
   "version": "3.10.8"
  }
 },
 "nbformat": 4,
 "nbformat_minor": 5
}
